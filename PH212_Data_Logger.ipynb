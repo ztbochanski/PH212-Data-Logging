{
 "metadata": {
  "language_info": {
   "codemirror_mode": {
    "name": "ipython",
    "version": 3
   },
   "file_extension": ".py",
   "mimetype": "text/x-python",
   "name": "python",
   "nbconvert_exporter": "python",
   "pygments_lexer": "ipython3",
   "version": "3.9.2"
  },
  "orig_nbformat": 2,
  "kernelspec": {
   "name": "python392jvsc74a57bd0596b7cc4f02652a8b53c7d10df5b3a05b89b701c506ccbf1bcfef4ff758de14b",
   "display_name": "Python 3.9.2 64-bit ('jlabenv': virtualenvwrapper)"
  }
 },
 "nbformat": 4,
 "nbformat_minor": 2,
 "cells": [
  {
   "source": [
    "# Data Logging\n",
    "## PH 212\n",
    "### May 11 2021\n",
    "### Zachary Bochanski\n",
    "\n",
    "Collecting data from DS18B20 sensor and analyzing using pandas. The project uses a microcontroller breakout board with a wifi chip, [board info](https://en.wikipedia.org/wiki/ESP32). The goal is to send the readings from the temp sensor over the local network and be able to download the the csv.\n",
    "\n",
    "- sweet open source package for integrating IoT stuffs with VScode: [platformio](https://platformio.org/)\n",
    "\n",
    "View and download data here:\n",
    "## [DS18B20 Data Viewer](https://ph212-iot.web.app/)"
   ],
   "cell_type": "markdown",
   "metadata": {}
  },
  {
   "source": [
    "## Requirements\n",
    "\n",
    "Recording Tools \n",
    "- [Data Logging](https://github.com/ztbochanski/PH212-Data-Logging)\n",
    "\n",
    "Analytical Tools\n",
    "- `numpy`\n",
    "- `pandas`\n",
    "- `matplotlib`\n"
   ],
   "cell_type": "markdown",
   "metadata": {}
  },
  {
   "cell_type": "code",
   "execution_count": 1,
   "metadata": {},
   "outputs": [],
   "source": [
    "import numpy as np\n",
    "import pandas as pd\n",
    "import matplotlib as mplot\n",
    "import matplotlib.pyplot as plt\n",
    "from numpy.polynomial import polynomial as ply"
   ]
  },
  {
   "cell_type": "code",
   "execution_count": null,
   "metadata": {},
   "outputs": [],
   "source": []
  }
 ]
}