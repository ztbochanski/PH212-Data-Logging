{
 "metadata": {
  "language_info": {
   "codemirror_mode": {
    "name": "ipython",
    "version": 3
   },
   "file_extension": ".py",
   "mimetype": "text/x-python",
   "name": "python",
   "nbconvert_exporter": "python",
   "pygments_lexer": "ipython3",
   "version": "3.9.2"
  },
  "orig_nbformat": 2,
  "kernelspec": {
   "name": "python392jvsc74a57bd0596b7cc4f02652a8b53c7d10df5b3a05b89b701c506ccbf1bcfef4ff758de14b",
   "display_name": "Python 3.9.2 64-bit ('jlabenv': virtualenvwrapper)"
  }
 },
 "nbformat": 4,
 "nbformat_minor": 2,
 "cells": [
  {
   "source": [
    "# Record Keeping\n",
    "## PH 212\n",
    "### April 25 2021\n",
    "### Zachary Bochanski\n",
    "\n",
    "Adding a way to retain the data collected by the temperature sensor we created. Integrated microcontroller and wifi, [board info](https://en.wikipedia.org/wiki/ESP32). The goal is to send the readings from the temp sensor over the local network.\n",
    "\n",
    "- sweet open source package for integrating IoT stuffs with VScode: [platformio](https://platformio.org/)\n",
    "\n",
    "View data here:\n",
    "## [DS18B20 Data Viewer](https://ph212-iot.web.app/)"
   ],
   "cell_type": "markdown",
   "metadata": {}
  },
  {
   "source": [
    "## Requirements\n",
    "\n",
    "- Data collection (temperature)\n",
    "- Transportation (way to send the data)\n",
    "- Storage (where to keep, find, and access the data)\n",
    "- View (display requested data)"
   ],
   "cell_type": "markdown",
   "metadata": {}
  },
  {
   "source": [
    "## Tools to meet Requirements\n",
    "\n",
    "### Cloud database: [Google Firebase](https://firebase.google.com/?gclid=CjwKCAjwm7mEBhBsEiwA_of-TD5PHSNm-pTd8_B1jxDlZTlkHMdI7itEJCZy71mlcUymIKrvgMNnZxoC-EoQAvD_BwE&gclsrc=aw.ds)\n",
    "\n",
    "- A user friendly service google provides with a well documented API for developing cloud applications.\n",
    "- Package with already built functions for connection with the firebase API.\n",
    "\n",
    "### Network Communication- HTTP methods:\n",
    "\n",
    "> With more time available I would try to implement MQTT, however, the firebase API which uses HTTP methods is simple and will work just fine for the scope of this project.\n",
    "\n",
    "### Ideal protocol for scalablilty- MQTT (Message Queued Telemetry Transport)\n",
    "\n",
    "- Interesting communication protocol created in 1999 by two guys who worked for Eurotech to monitor oil pipeline. I came across this while trying to I find a network protocol that wasn't as taxing as HTTP requests and not picky about a response.\n",
    "\n",
    "- It works by allowing a device, in this case our data logger, to \"subscribe\" to a \"broker\" (server) from which we can access the data, \"messages\" sent from the device.\n",
    "\n",
    "- It seems the purpose of MQTT is it's low usage of bandwitdth, adabtability to stable network connections, and scalablilty to manage 1 to many IoT devices.\n",
    "\n",
    "### Browser friendly client app: [React](https://reactjs.org/), open source javascript library\n",
    "\n",
    "- Used to build a way to view the temp logger data. React is a frontend javascript library that creates modular interactive web pages/apps by taking advantage of how a browser renders html. "
   ],
   "cell_type": "markdown",
   "metadata": {}
  },
  {
   "source": [
    "## Plan/ Concept\n",
    "\n",
    "1. Impelment the transportation system (MQTT). For now going to use the \"real-time database\" (RTDB)from google that functions similar to the mqtt concept.\n",
    "\n",
    "2. Set up the storage system using a cloud database, in this case: Firebase.\n",
    "\n",
    "3. Create a client app to view data/info from the database using React. Host the app somewhere on someone else's hardware. Looks like google already provides hosting via Firebase.\n",
    "\n",
    "- **Basically connect the device to the home network and send the data to someone else's hardware.**"
   ],
   "cell_type": "markdown",
   "metadata": {}
  },
  {
   "source": [
    "## DS18B20 Temperature Sensor\n",
    "\n",
    "- Uses ony one wire to communicate with the microcontroller. So the protocol is called 1-wire communication, pretty straigtforward. \n",
    "- Digital 1 wire communication bus developed by Dallas Semiconductor."
   ],
   "cell_type": "markdown",
   "metadata": {}
  },
  {
   "source": [
    "## Arduino Sketch Plan\n",
    "\n",
    "Responsible for sending data to the database\n",
    "\n",
    "```C++\n",
    "// Declare sketch constants and variables\n",
    "\n",
    "// Instantiate package objects\n",
    "\n",
    "// Setup function\n",
    "void setup()\n",
    "{\n",
    "  // Connect to WIFI\n",
    "\n",
    "  // Connect hardware to server (use firebase API)\n",
    "}\n",
    "\n",
    "void loop()\n",
    "{\n",
    "  # Create time checker when to execute code (millis)\n",
    "  \n",
    "  # Read sensors\n",
    "  \n",
    "  # Send readings to server every 2 min... 30 readings / hour\n",
    "}\n",
    "```"
   ],
   "cell_type": "markdown",
   "metadata": {}
  },
  {
   "source": [
    "## Server: firebase real-time database\n",
    "\n",
    "For sending data to a google server we need to consider the structure of the data as well as who has permission to read an write that data.\n",
    "\n",
    "### Non-relational database scheme:\n",
    "We want time and a temp value...\n",
    "```json\n",
    "{\n",
    "  \"temperature\": {\n",
    "    \"id hash\": temp value celcius,\n",
    "    \"id hash\": temp value celcius\n",
    "  },\n",
    "  \"timestamp\": {\n",
    "    \"id hash\": temp value celcius,\n",
    "    \"id hash\": temp value celcius\n",
    "  }\n",
    "}\n",
    "```\n",
    "### Security rules:\n",
    "Only allow the unique id of our device write data...\n",
    "```json\n",
    "{\n",
    "  \"rules\": {\n",
    "    \".read\": true,\n",
    "    \".write\": \"auth.uid === 'guxltn1861f9HnkxWAFmyxUVroh1'\"\n",
    "  }\n",
    "}\n",
    "```"
   ],
   "cell_type": "markdown",
   "metadata": {}
  },
  {
   "source": [
    "## Data Viewer\n",
    "Create an application that can run in a browser and displays the data from the database.\n",
    "\n",
    "```bash\n",
    "yarn create-react-app\n",
    "```\n",
    "\n",
    "```Javascript\n",
    "// define functions to render html for a graph\n",
    "// define functions to render html for a table\n",
    "\n",
    "ReactDOM.render(\n",
    "  <React.StrictMode>\n",
    "    <ThemeProvider theme={theme}>\n",
    "      <CssBaseline />\n",
    "      <App />\n",
    "    </ThemeProvider>\n",
    "  </React.StrictMode>,\n",
    "  document.getElementById('root')\n",
    ");\n",
    "```\n"
   ],
   "cell_type": "markdown",
   "metadata": {}
  },
  {
   "source": [
    "## Testing\n",
    "\n",
    "1. Pick something to measure, straw in the garden during the morning. Lets see how much it will change in an hour from bout 8am to 9am.\n",
    "\n",
    "2. Check the database, viewer web app, and device:\n",
    "- [x] device on and connected to network\n",
    "- [x] data properly updating in db (records every 2min)\n",
    "- [x] client app properly renders data from db\n"
   ],
   "cell_type": "markdown",
   "metadata": {}
  },
  {
   "source": [
    "### Image of sensor out in the garden intended for planting stuff in (within range to the house's router of course )\n",
    "\n",
    "![garden](https://github.com/ztbochanski/PH212-Data-Logging/raw/main/images/straw-garden.jpg)"
   ],
   "cell_type": "markdown",
   "metadata": {}
  },
  {
   "cell_type": "code",
   "execution_count": null,
   "metadata": {},
   "outputs": [],
   "source": []
  }
 ]
}